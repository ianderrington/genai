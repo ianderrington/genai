{
 "cells": [
  {
   "cell_type": "code",
   "execution_count": null,
   "id": "c7c03667-c6fb-41bb-9e49-2d3aca3862c1",
   "metadata": {},
   "outputs": [],
   "source": [
    "import networkx as nx\n",
    "import json\n",
    "\n",
    "class KnowledgeGraph:˜\n",
    "    def __init__(self):\n",
    "        self.graph = nx.DiGraph()\n",
    "\n",
    "    def add_node(self, node, content=None):\n",
    "        self.graph.add_node(node, content=content)\n",
    "\n",
    "    def add_edge(self, source, target):\n",
    "        self.graph.add_edge(source, target)\n",
    "\n",
    "    def to_json(self, file_path):\n",
    "        data = nx.readwrite.json_graph.node_link_data(self.graph)\n",
    "        with open(file_path, 'w') as f:\n",
    "            json.dump(data, f)\n"
   ]
  },
  {
   "cell_type": "markdown",
   "id": "27325a4a-ddc4-477a-a009-adbe08b0d2c7",
   "metadata": {},
   "source": [
    "# Purpose\n",
    "\n",
    "Build a networked understanding pointing initially to a local set of files that may also link to a http:// . The resulting hyperlink may point to with even a pdf, image, or video. \n",
    "\n",
    "## What does this mean?\n",
    "\n",
    "To effectively create a self-explaining AI that can also evolve, it needs to be able to explain all of the components that that make it up, or could make other AI up. This will require having explicit knowledge on a high-level, as well as on an implementation level related to open-source code databases. \n",
    "\n",
    "## Strategy \n",
    "\n",
    "Using both regular algorithms (regEx) and AI (API calls) to create understanding graphs. \n",
    "Use vector and regular databases to store information as needed.\n",
    "Use Langchain to coordinate the implementation of these initially. \n",
    "\n",
    "## Useful references \n",
    "https://github.com/hwchase17/langchain/tree/41c841ec8596e666a458af078999bb4c4bc8b63a/docs/extras/use_cases/agent_simulations \n"
   ]
  },
  {
   "cell_type": "code",
   "execution_count": null,
   "id": "846ded48-e530-4440-9ffd-2c9e50b78589",
   "metadata": {},
   "outputs": [],
   "source": []
  }
 ],
 "metadata": {
  "kernelspec": {
   "display_name": "Python 3 (ipykernel)",
   "language": "python",
   "name": "python3"
  },
  "language_info": {
   "codemirror_mode": {
    "name": "ipython",
    "version": 3
   },
   "file_extension": ".py",
   "mimetype": "text/x-python",
   "name": "python",
   "nbconvert_exporter": "python",
   "pygments_lexer": "ipython3",
   "version": "3.10.13"
  }
 },
 "nbformat": 4,
 "nbformat_minor": 5
}
