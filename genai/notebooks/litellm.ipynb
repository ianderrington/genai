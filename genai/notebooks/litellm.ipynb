{
 "cells": [
  {
   "cell_type": "code",
   "execution_count": 16,
   "metadata": {},
   "outputs": [
    {
     "name": "stdout",
     "output_type": "stream",
     "text": [
      "Hello there, I'm doing well, thanks for asking. How's your day going so far?"
     ]
    }
   ],
   "source": [
    "from litellm import completion\n",
    "import os\n",
    "\n",
    "import dotenv\n",
    "\n",
    "dotenv.load_dotenv()\n",
    "\n",
    "response = completion(\n",
    "  model=\"openrouter/gryphe/mythomist-7b\", \n",
    "  messages = [{ \"content\": \"Hello, how are you?\",\"role\": \"user\"}],\n",
    "  stream=True,\n",
    ")\n",
    "\n",
    "complete_response = []\n",
    "for chunk in response: \n",
    "    # print(chunk) # {'choices': [{'delta': {'role': 'assistant', 'content': 'Thi'}, 'finish_reason': None}]}\n",
    "    out = chunk[\"choices\"][0][\"delta\"][\"content\"]\n",
    "    if out:\n",
    "      print(out, end=\"\")\n",
    "      complete_response += out"
   ]
  },
  {
   "cell_type": "code",
   "execution_count": null,
   "metadata": {},
   "outputs": [],
   "source": []
  }
 ],
 "metadata": {
  "kernelspec": {
   "display_name": "genai",
   "language": "python",
   "name": "python3"
  },
  "language_info": {
   "codemirror_mode": {
    "name": "ipython",
    "version": 3
   },
   "file_extension": ".py",
   "mimetype": "text/x-python",
   "name": "python",
   "nbconvert_exporter": "python",
   "pygments_lexer": "ipython3",
   "version": "3.10.13"
  }
 },
 "nbformat": 4,
 "nbformat_minor": 2
}
