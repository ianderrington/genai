{
 "cells": [
  {
   "cell_type": "code",
   "execution_count": 1,
   "id": "8047e437-09ed-4154-8855-1e1c4b7e02ed",
   "metadata": {},
   "outputs": [
    {
     "name": "stdout",
     "output_type": "stream",
     "text": [
      "Collecting bokeh\n",
      "  Downloading bokeh-3.2.1-py3-none-any.whl (7.8 MB)\n",
      "\u001b[2K     \u001b[38;2;114;156;31m━━━━━━━━━━━━━━━━━━━━━━━━━━━━━━━━━━━━━━━━\u001b[0m \u001b[32m7.8/7.8 MB\u001b[0m \u001b[31m10.4 MB/s\u001b[0m eta \u001b[36m0:00:00\u001b[0m MB/s\u001b[0m eta \u001b[36m0:00:01\u001b[0m:01\u001b[0m\n",
      "\u001b[?25hRequirement already satisfied: Jinja2>=2.9 in /Users/ian/miniforge3/envs/genai/lib/python3.10/site-packages (from bokeh) (3.0.3)\n",
      "Requirement already satisfied: contourpy>=1 in /Users/ian/miniforge3/envs/genai/lib/python3.10/site-packages (from bokeh) (1.1.0)\n",
      "Requirement already satisfied: numpy>=1.16 in /Users/ian/miniforge3/envs/genai/lib/python3.10/site-packages (from bokeh) (1.25.0)\n",
      "Requirement already satisfied: packaging>=16.8 in /Users/ian/miniforge3/envs/genai/lib/python3.10/site-packages (from bokeh) (23.1)\n",
      "Requirement already satisfied: pandas>=1.2 in /Users/ian/miniforge3/envs/genai/lib/python3.10/site-packages (from bokeh) (2.0.2)\n",
      "Requirement already satisfied: pillow>=7.1.0 in /Users/ian/miniforge3/envs/genai/lib/python3.10/site-packages (from bokeh) (9.5.0)\n",
      "Requirement already satisfied: PyYAML>=3.10 in /Users/ian/miniforge3/envs/genai/lib/python3.10/site-packages (from bokeh) (6.0)\n",
      "Requirement already satisfied: tornado>=5.1 in /Users/ian/miniforge3/envs/genai/lib/python3.10/site-packages (from bokeh) (6.3.2)\n",
      "Collecting xyzservices>=2021.09.1 (from bokeh)\n",
      "  Downloading xyzservices-2023.7.0-py3-none-any.whl (56 kB)\n",
      "\u001b[2K     \u001b[38;2;114;156;31m━━━━━━━━━━━━━━━━━━━━━━━━━━━━━━━━━━━━━━━━\u001b[0m \u001b[32m56.7/56.7 kB\u001b[0m \u001b[31m5.0 MB/s\u001b[0m eta \u001b[36m0:00:00\u001b[0m\n",
      "\u001b[?25hRequirement already satisfied: MarkupSafe>=2.0 in /Users/ian/miniforge3/envs/genai/lib/python3.10/site-packages (from Jinja2>=2.9->bokeh) (2.1.3)\n",
      "Requirement already satisfied: python-dateutil>=2.8.2 in /Users/ian/miniforge3/envs/genai/lib/python3.10/site-packages (from pandas>=1.2->bokeh) (2.8.2)\n",
      "Requirement already satisfied: pytz>=2020.1 in /Users/ian/miniforge3/envs/genai/lib/python3.10/site-packages (from pandas>=1.2->bokeh) (2023.3)\n",
      "Requirement already satisfied: tzdata>=2022.1 in /Users/ian/miniforge3/envs/genai/lib/python3.10/site-packages (from pandas>=1.2->bokeh) (2023.3)\n",
      "Requirement already satisfied: six>=1.5 in /Users/ian/miniforge3/envs/genai/lib/python3.10/site-packages (from python-dateutil>=2.8.2->pandas>=1.2->bokeh) (1.16.0)\n",
      "Installing collected packages: xyzservices, bokeh\n",
      "Successfully installed bokeh-3.2.1 xyzservices-2023.7.0\n"
     ]
    }
   ],
   "source": [
    "!pip install bokeh"
   ]
  },
  {
   "cell_type": "code",
   "execution_count": 4,
   "id": "c14354c2-eec1-43be-9cc9-92f1294daab0",
   "metadata": {},
   "outputs": [],
   "source": [
    "from bokeh.io import output_notebook, show, save\n",
    "from bokeh.models import Range1d, Circle, ColumnDataSource, MultiLine\n",
    "from bokeh.plotting import figure\n",
    "from bokeh.plotting import from_networkx\n",
    "from bokeh.palettes import Blues8, Reds8, Purples8, Oranges8, Viridis8, Spectral8\n",
    "from bokeh.transform import linear_cmap\n",
    "from networkx.algorithms import community\n",
    "import networkx"
   ]
  },
  {
   "cell_type": "code",
   "execution_count": 5,
   "id": "56bbdc7e-8122-4f95-bbef-9e50a2f79c9f",
   "metadata": {},
   "outputs": [
    {
     "ename": "NameError",
     "evalue": "name 'G' is not defined",
     "output_type": "error",
     "traceback": [
      "\u001b[0;31m---------------------------------------------------------------------------\u001b[0m",
      "\u001b[0;31mNameError\u001b[0m                                 Traceback (most recent call last)",
      "Cell \u001b[0;32mIn[5], line 1\u001b[0m\n\u001b[0;32m----> 1\u001b[0m degrees \u001b[38;5;241m=\u001b[39m \u001b[38;5;28mdict\u001b[39m(networkx\u001b[38;5;241m.\u001b[39mdegree(\u001b[43mG\u001b[49m))\n",
      "\u001b[0;31mNameError\u001b[0m: name 'G' is not defined"
     ]
    }
   ],
   "source": [
    "degrees = dict(networkx.degree(G))\n"
   ]
  },
  {
   "cell_type": "code",
   "execution_count": null,
   "id": "5955f585-87d1-4116-84a8-216e0fcbbc4a",
   "metadata": {},
   "outputs": [],
   "source": []
  }
 ],
 "metadata": {
  "kernelspec": {
   "display_name": "Python 3 (ipykernel)",
   "language": "python",
   "name": "python3"
  },
  "language_info": {
   "codemirror_mode": {
    "name": "ipython",
    "version": 3
   },
   "file_extension": ".py",
   "mimetype": "text/x-python",
   "name": "python",
   "nbconvert_exporter": "python",
   "pygments_lexer": "ipython3",
   "version": "3.10.12"
  }
 },
 "nbformat": 4,
 "nbformat_minor": 5
}
