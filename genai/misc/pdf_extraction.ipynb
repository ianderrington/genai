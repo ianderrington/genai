{
 "cells": [
  {
   "cell_type": "code",
   "execution_count": 14,
   "metadata": {},
   "outputs": [
    {
     "name": "stdout",
     "output_type": "stream",
     "text": [
      "[[], [], [], [], [], [], [], [], [], [], [], [[['Formula', 'Mean', 'STD'], ['f=((A+B)*C)', '0.288', '0.267'], ['f=(A+B*C)', '0.406', '0.349'], ['f=((A-B)*C)', '0.562', '0.194'], ['f=(A/(B/C))', '0.677', '0.228'], ['f=(A-B*C)', '0.697', '0.266'], ['f=(A*(B-C))', '0.797', '0.325'], ['f=((A+B)/C)', '0.867', '0.265'], ['f=(A-(B-C))', '0.930', '0.057'], ['f=((A-B)/C)', '0.940', '0.120'], ['f=(A-B/C)', '0.955', '0.042'], ['f=(A/(B+C))', '0.960', '0.042'], ['f=(A/(B-C))', '0.962', '0.094'], ['f=(A+B/C)', '0.964', '0.049'], ['f=(A*(B/C))', '0.970', '0.052'], ['f=(A*B+C)', '0.973', '0.025'], ['f=(A*(B+C))', '0.974', '0.025'], ['f=(A/B+C)', '0.981', '0.024'], ['f=(A/B/C)', '0.985', '0.017'], ['f=(A/B-C)', '0.987', '0.022'], ['f=(A/B*C)', '0.99', '0.015'], ['f=(A-(B+C))', '0.99', '0.017'], ['f=(A*B-C)', '0.992', '0.015'], ['f=(A/(B*C))', '0.995', '0.012'], ['f=(A-B+C)', '1', '0'], ['f=(A+B+C)', '1', '0'], ['f=(A-B-C)', '1', '0'], ['f=(A*B/C)', '1', '0'], ['f=(A+B-C)', '1', '0'], ['f=(A*B*C)', '1', '0']]], [], [], [], [], [[['Formula', 'Format'], ['f=((A+B)*C)', 'Sum A and B and multiply by C'], ['f=(A+B*C)', 'What is the sum of A and the product of B and C?'], ['f=((A-B)*C)', 'What is the product of A minus B and C?'], ['f=(A/(B/C))', 'How much is A divided by the ratio between B and C?'], ['f=(A-B*C)', 'What is the difference between A and the product of B and C?'], ['f=(A*(B-C))', 'How much is A times the difference between B and C?'], ['f=((A+B)/C)', 'What is the ratio between A plus B and C?'], ['f=(A-(B-C))', 'How much is A minus the diffrence between B and C?'], ['f=((A-B)/C)', 'What is the ratio between A minus B and C?'], ['f=(A-B/C)', 'What is the difference between A and the ratio between B and C?'], ['f=(A/(B+C))', 'How much is A divided bu the sum of B and C?'], ['f=(A/(B-C))', 'How much is A divided by the difference between B and C?'], ['f=(A+B/C)', 'what is the sum of A and the ratio between B and C?'], ['f=(A*(B/C))', 'How much is A times the ratio between B and C?'], ['f=(A*B+C)', 'How much is the sum of A times B and C?'], ['f=(A*(B+C))', 'How much is A times the sum of B and C?'], ['f=(A/B+C)', 'How much is the sum of A divided by B and C?'], ['f=(A/B/C)', 'How much is A divided by B divided by C?'], ['f=(A/B-C)', 'How much is the difference between A divided by B and C?'], ['f=(A/B*C)', 'How much is A divided by B times C?'], ['f=(A-(B+C))', 'How much is A minus the sum of B and C?'], ['f=(A*B-C)', 'How much is the difference between A times B and C?'], ['f=(A/(B*C))', 'How much is A divided by the product of B and C?'], ['f=(A-B+C)', 'How much is A minus B plus C?'], ['f=(A+B+C)', 'How much is A plus B plus C?'], ['f=(A-B-C)', 'How much is A minus B minus C?'], ['f=(A*B/C)', 'How much is A times B divided by C?'], ['f=(A+B-C)', 'How much is A plus B minus C?'], ['f=(A*B*C)', 'How much is A times B times C?']]], [], []]\n"
     ]
    }
   ],
   "source": [
    "import pdfplumber\n",
    "\n",
    "def extract_lines(file_path):\n",
    "    data = []\n",
    "    with pdfplumber.open(file_path) as pdf:\n",
    "        pages = pdf.pages\n",
    "        for p in pages:\n",
    "            data.append(p.lines())\n",
    "    return data # build more code to return a dataframe \n",
    "\n",
    "file_path = '../../Downloads/pdf/arxiv/2205.00445/2205.00445.pdf'\n",
    "data = extract_data(file_path)\n",
    "print(data)"
   ]
  },
  {
   "cell_type": "code",
   "execution_count": 8,
   "metadata": {},
   "outputs": [
    {
     "name": "stdout",
     "output_type": "stream",
     "text": [
      "Collecting rapidocr-onnxruntime\n",
      "  Downloading rapidocr_onnxruntime-1.3.9-py3-none-any.whl.metadata (1.3 kB)\n",
      "Collecting pyclipper>=1.2.0 (from rapidocr-onnxruntime)\n",
      "  Downloading pyclipper-1.3.0.post5-cp310-cp310-macosx_10_9_universal2.whl.metadata (9.0 kB)\n",
      "Collecting onnxruntime>=1.7.0 (from rapidocr-onnxruntime)\n",
      "  Using cached onnxruntime-1.16.3-cp310-cp310-macosx_11_0_arm64.whl.metadata (4.3 kB)\n",
      "Collecting opencv-python>=4.5.1.48 (from rapidocr-onnxruntime)\n",
      "  Downloading opencv_python-4.9.0.80-cp37-abi3-macosx_11_0_arm64.whl.metadata (20 kB)\n",
      "Requirement already satisfied: numpy>=1.19.5 in /Users/ianderrington/miniconda3/envs/langchain_streamlit/lib/python3.10/site-packages (from rapidocr-onnxruntime) (1.26.3)\n",
      "Requirement already satisfied: six>=1.15.0 in /Users/ianderrington/miniconda3/envs/langchain_streamlit/lib/python3.10/site-packages (from rapidocr-onnxruntime) (1.16.0)\n",
      "Collecting Shapely>=1.7.1 (from rapidocr-onnxruntime)\n",
      "  Downloading shapely-2.0.2-cp310-cp310-macosx_11_0_arm64.whl.metadata (7.0 kB)\n",
      "Requirement already satisfied: PyYAML in /Users/ianderrington/miniconda3/envs/langchain_streamlit/lib/python3.10/site-packages (from rapidocr-onnxruntime) (6.0.1)\n",
      "Collecting Pillow<=10.0.1 (from rapidocr-onnxruntime)\n",
      "  Using cached Pillow-10.0.1-cp310-cp310-macosx_11_0_arm64.whl.metadata (9.5 kB)\n",
      "Collecting coloredlogs (from onnxruntime>=1.7.0->rapidocr-onnxruntime)\n",
      "  Using cached coloredlogs-15.0.1-py2.py3-none-any.whl (46 kB)\n",
      "Collecting flatbuffers (from onnxruntime>=1.7.0->rapidocr-onnxruntime)\n",
      "  Using cached flatbuffers-23.5.26-py2.py3-none-any.whl.metadata (850 bytes)\n",
      "Requirement already satisfied: packaging in /Users/ianderrington/miniconda3/envs/langchain_streamlit/lib/python3.10/site-packages (from onnxruntime>=1.7.0->rapidocr-onnxruntime) (23.2)\n",
      "Requirement already satisfied: protobuf in /Users/ianderrington/miniconda3/envs/langchain_streamlit/lib/python3.10/site-packages (from onnxruntime>=1.7.0->rapidocr-onnxruntime) (4.25.2)\n",
      "Collecting sympy (from onnxruntime>=1.7.0->rapidocr-onnxruntime)\n",
      "  Using cached sympy-1.12-py3-none-any.whl (5.7 MB)\n",
      "Collecting humanfriendly>=9.1 (from coloredlogs->onnxruntime>=1.7.0->rapidocr-onnxruntime)\n",
      "  Using cached humanfriendly-10.0-py2.py3-none-any.whl (86 kB)\n",
      "Collecting mpmath>=0.19 (from sympy->onnxruntime>=1.7.0->rapidocr-onnxruntime)\n",
      "  Using cached mpmath-1.3.0-py3-none-any.whl (536 kB)\n",
      "Downloading rapidocr_onnxruntime-1.3.9-py3-none-any.whl (14.9 MB)\n",
      "\u001b[2K   \u001b[90m━━━━━━━━━━━━━━━━━━━━━━━━━━━━━━━━━━━━━━━━\u001b[0m \u001b[32m14.9/14.9 MB\u001b[0m \u001b[31m5.3 MB/s\u001b[0m eta \u001b[36m0:00:00\u001b[0m00:01\u001b[0m00:01\u001b[0m\n",
      "\u001b[?25hUsing cached onnxruntime-1.16.3-cp310-cp310-macosx_11_0_arm64.whl (6.2 MB)\n",
      "Downloading opencv_python-4.9.0.80-cp37-abi3-macosx_11_0_arm64.whl (35.4 MB)\n",
      "\u001b[2K   \u001b[90m━━━━━━━━━━━━━━━━━━━━━━━━━━━━━━━━━━━━━━━━\u001b[0m \u001b[32m35.4/35.4 MB\u001b[0m \u001b[31m5.2 MB/s\u001b[0m eta \u001b[36m0:00:00\u001b[0m00:01\u001b[0m00:01\u001b[0m\n",
      "\u001b[?25hDownloading Pillow-10.0.1-cp310-cp310-macosx_11_0_arm64.whl (3.3 MB)\n",
      "\u001b[2K   \u001b[90m━━━━━━━━━━━━━━━━━━━━━━━━━━━━━━━━━━━━━━━━\u001b[0m \u001b[32m3.3/3.3 MB\u001b[0m \u001b[31m9.2 MB/s\u001b[0m eta \u001b[36m0:00:00\u001b[0ma \u001b[36m0:00:01\u001b[0m\n",
      "\u001b[?25hDownloading pyclipper-1.3.0.post5-cp310-cp310-macosx_10_9_universal2.whl (277 kB)\n",
      "\u001b[2K   \u001b[90m━━━━━━━━━━━━━━━━━━━━━━━━━━━━━━━━━━━━━━━━\u001b[0m \u001b[32m277.4/277.4 kB\u001b[0m \u001b[31m6.3 MB/s\u001b[0m eta \u001b[36m0:00:00\u001b[0m00:01\u001b[0m\n",
      "\u001b[?25hDownloading shapely-2.0.2-cp310-cp310-macosx_11_0_arm64.whl (1.3 MB)\n",
      "\u001b[2K   \u001b[90m━━━━━━━━━━━━━━━━━━━━━━━━━━━━━━━━━━━━━━━━\u001b[0m \u001b[32m1.3/1.3 MB\u001b[0m \u001b[31m10.4 MB/s\u001b[0m eta \u001b[36m0:00:00\u001b[0ma \u001b[36m0:00:01\u001b[0m\n",
      "\u001b[?25hUsing cached flatbuffers-23.5.26-py2.py3-none-any.whl (26 kB)\n",
      "Installing collected packages: pyclipper, mpmath, flatbuffers, sympy, Shapely, Pillow, opencv-python, humanfriendly, coloredlogs, onnxruntime, rapidocr-onnxruntime\n",
      "  Attempting uninstall: Pillow\n",
      "    Found existing installation: pillow 10.2.0\n",
      "    Uninstalling pillow-10.2.0:\n",
      "      Successfully uninstalled pillow-10.2.0\n",
      "Successfully installed Pillow-10.0.1 Shapely-2.0.2 coloredlogs-15.0.1 flatbuffers-23.5.26 humanfriendly-10.0 mpmath-1.3.0 onnxruntime-1.16.3 opencv-python-4.9.0.80 pyclipper-1.3.0.post5 rapidocr-onnxruntime-1.3.9 sympy-1.12\n",
      "Note: you may need to restart the kernel to use updated packages.\n"
     ]
    }
   ],
   "source": [
    "pip install rapidocr-onnxruntime"
   ]
  },
  {
   "cell_type": "code",
   "execution_count": 10,
   "metadata": {},
   "outputs": [
    {
     "ename": "ValueError",
     "evalue": "File path ../../Downloads/pdf/arxiv/2205.00445.pdf is not a valid file or url",
     "output_type": "error",
     "traceback": [
      "\u001b[0;31m---------------------------------------------------------------------------\u001b[0m",
      "\u001b[0;31mValueError\u001b[0m                                Traceback (most recent call last)",
      "Cell \u001b[0;32mIn[10], line 3\u001b[0m\n\u001b[1;32m      1\u001b[0m \u001b[38;5;28;01mfrom\u001b[39;00m \u001b[38;5;21;01mlangchain_community\u001b[39;00m\u001b[38;5;21;01m.\u001b[39;00m\u001b[38;5;21;01mdocument_loaders\u001b[39;00m \u001b[38;5;28;01mimport\u001b[39;00m PyPDFLoader\n\u001b[0;32m----> 3\u001b[0m loader \u001b[38;5;241m=\u001b[39m \u001b[43mPyPDFLoader\u001b[49m\u001b[43m(\u001b[49m\u001b[43mfile_path\u001b[49m\u001b[43m,\u001b[49m\u001b[43m \u001b[49m\u001b[43mextract_images\u001b[49m\u001b[38;5;241;43m=\u001b[39;49m\u001b[38;5;28;43;01mTrue\u001b[39;49;00m\u001b[43m)\u001b[49m\n\u001b[1;32m      4\u001b[0m pages \u001b[38;5;241m=\u001b[39m loader\u001b[38;5;241m.\u001b[39mload()\n\u001b[1;32m      5\u001b[0m pages[\u001b[38;5;241m4\u001b[39m]\u001b[38;5;241m.\u001b[39mpage_content\n",
      "File \u001b[0;32m~/miniconda3/envs/langchain_streamlit/lib/python3.10/site-packages/langchain_community/document_loaders/pdf.py:157\u001b[0m, in \u001b[0;36mPyPDFLoader.__init__\u001b[0;34m(self, file_path, password, headers, extract_images)\u001b[0m\n\u001b[1;32m    153\u001b[0m \u001b[38;5;28;01mexcept\u001b[39;00m \u001b[38;5;167;01mImportError\u001b[39;00m:\n\u001b[1;32m    154\u001b[0m     \u001b[38;5;28;01mraise\u001b[39;00m \u001b[38;5;167;01mImportError\u001b[39;00m(\n\u001b[1;32m    155\u001b[0m         \u001b[38;5;124m\"\u001b[39m\u001b[38;5;124mpypdf package not found, please install it with \u001b[39m\u001b[38;5;124m\"\u001b[39m \u001b[38;5;124m\"\u001b[39m\u001b[38;5;124m`pip install pypdf`\u001b[39m\u001b[38;5;124m\"\u001b[39m\n\u001b[1;32m    156\u001b[0m     )\n\u001b[0;32m--> 157\u001b[0m \u001b[38;5;28;43msuper\u001b[39;49m\u001b[43m(\u001b[49m\u001b[43m)\u001b[49m\u001b[38;5;241;43m.\u001b[39;49m\u001b[38;5;21;43m__init__\u001b[39;49m\u001b[43m(\u001b[49m\u001b[43mfile_path\u001b[49m\u001b[43m,\u001b[49m\u001b[43m \u001b[49m\u001b[43mheaders\u001b[49m\u001b[38;5;241;43m=\u001b[39;49m\u001b[43mheaders\u001b[49m\u001b[43m)\u001b[49m\n\u001b[1;32m    158\u001b[0m \u001b[38;5;28mself\u001b[39m\u001b[38;5;241m.\u001b[39mparser \u001b[38;5;241m=\u001b[39m PyPDFParser(password\u001b[38;5;241m=\u001b[39mpassword, extract_images\u001b[38;5;241m=\u001b[39mextract_images)\n",
      "File \u001b[0;32m~/miniconda3/envs/langchain_streamlit/lib/python3.10/site-packages/langchain_community/document_loaders/pdf.py:100\u001b[0m, in \u001b[0;36mBasePDFLoader.__init__\u001b[0;34m(self, file_path, headers)\u001b[0m\n\u001b[1;32m     98\u001b[0m         \u001b[38;5;28mself\u001b[39m\u001b[38;5;241m.\u001b[39mfile_path \u001b[38;5;241m=\u001b[39m \u001b[38;5;28mstr\u001b[39m(temp_pdf)\n\u001b[1;32m     99\u001b[0m \u001b[38;5;28;01melif\u001b[39;00m \u001b[38;5;129;01mnot\u001b[39;00m os\u001b[38;5;241m.\u001b[39mpath\u001b[38;5;241m.\u001b[39misfile(\u001b[38;5;28mself\u001b[39m\u001b[38;5;241m.\u001b[39mfile_path):\n\u001b[0;32m--> 100\u001b[0m     \u001b[38;5;28;01mraise\u001b[39;00m \u001b[38;5;167;01mValueError\u001b[39;00m(\u001b[38;5;124m\"\u001b[39m\u001b[38;5;124mFile path \u001b[39m\u001b[38;5;132;01m%s\u001b[39;00m\u001b[38;5;124m is not a valid file or url\u001b[39m\u001b[38;5;124m\"\u001b[39m \u001b[38;5;241m%\u001b[39m \u001b[38;5;28mself\u001b[39m\u001b[38;5;241m.\u001b[39mfile_path)\n",
      "\u001b[0;31mValueError\u001b[0m: File path ../../Downloads/pdf/arxiv/2205.00445.pdf is not a valid file or url"
     ]
    }
   ],
   "source": [
    "from langchain_community.document_loaders import PyPDFLoader\n",
    "\n",
    "loader = PyPDFLoader(file_path, extract_images=True)\n",
    "pages = loader.load()\n",
    "pages[4].page_content"
   ]
  },
  {
   "cell_type": "code",
   "execution_count": 11,
   "metadata": {},
   "outputs": [
    {
     "data": {
      "text/plain": [
       "'../../Downloads/pdf/arxiv/2205.00445.pdf'"
      ]
     },
     "execution_count": 11,
     "metadata": {},
     "output_type": "execute_result"
    }
   ],
   "source": [
    "file_path"
   ]
  },
  {
   "cell_type": "code",
   "execution_count": 13,
   "metadata": {},
   "outputs": [
    {
     "name": "stdout",
     "output_type": "stream",
     "text": [
      "../../Downloads/pdf/arxiv/2205.00445/2205.00445.pdf\n"
     ]
    }
   ],
   "source": [
    "ls '../../Downloads/pdf/arxiv/2205.00445/2205.00445.pdf'"
   ]
  }
 ],
 "metadata": {
  "kernelspec": {
   "display_name": "langchain_streamlit",
   "language": "python",
   "name": "python3"
  },
  "language_info": {
   "codemirror_mode": {
    "name": "ipython",
    "version": 3
   },
   "file_extension": ".py",
   "mimetype": "text/x-python",
   "name": "python",
   "nbconvert_exporter": "python",
   "pygments_lexer": "ipython3",
   "version": "3.10.13"
  }
 },
 "nbformat": 4,
 "nbformat_minor": 2
}
